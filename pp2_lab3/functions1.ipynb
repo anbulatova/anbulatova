{
 "cells": [
  {
   "cell_type": "code",
   "execution_count": 11,
   "metadata": {},
   "outputs": [
    {
     "name": "stdout",
     "output_type": "stream",
     "text": [
      "3486.9913413\n"
     ]
    }
   ],
   "source": [
    "def grams_to_ounces(grams):\n",
    "    ounces = 28.3495231 * grams\n",
    "    return ounces\n",
    "print(grams_to_ounces(123))"
   ]
  },
  {
   "cell_type": "code",
   "execution_count": 12,
   "metadata": {},
   "outputs": [
    {
     "name": "stdout",
     "output_type": "stream",
     "text": [
      "50.55555555555556\n"
     ]
    }
   ],
   "source": [
    "def fahrenheit_temperature(F):\n",
    "    C = (5 / 9) * (F - 32)\n",
    "    return C\n",
    "print(fahrenheit_temperature(123))"
   ]
  },
  {
   "cell_type": "code",
   "execution_count": 7,
   "metadata": {},
   "outputs": [
    {
     "name": "stdout",
     "output_type": "stream",
     "text": [
      "(12.0, 23.0)\n"
     ]
    }
   ],
   "source": [
    "def solve(numheads, numlegs):\n",
    "    r = (numlegs - 2*numheads)/2\n",
    "    c = numheads - r\n",
    "    return r, c\n",
    "print(solve(35, 94))"
   ]
  },
  {
   "cell_type": "code",
   "execution_count": 16,
   "metadata": {},
   "outputs": [
    {
     "name": "stdout",
     "output_type": "stream",
     "text": [
      "[3, 5, 13, 17, 23]\n"
     ]
    }
   ],
   "source": [
    "def is_prime(n):\n",
    "    if n < 2:\n",
    "        return False\n",
    "    for i in range(2, int(n**0.5) + 1):\n",
    "        if n % i == 0:\n",
    "            return False\n",
    "    return True\n",
    "\n",
    "def filter_prime(numbers):\n",
    "    return list(filter(is_prime, numbers))\n",
    "\n",
    "numbers = [10, 3, 5, 8, 13, 17, 20, 23]\n",
    "print(filter_prime(numbers))\n"
   ]
  },
  {
   "cell_type": "code",
   "execution_count": 2,
   "metadata": {},
   "outputs": [
    {
     "name": "stdout",
     "output_type": "stream",
     "text": [
      "abc\n",
      "acb\n",
      "bac\n",
      "bca\n",
      "cba\n",
      "cab\n"
     ]
    }
   ],
   "source": [
    "def permute(string, l=0):\n",
    "    if l == len(string) - 1:\n",
    "        print(\"\".join(string))\n",
    "        return\n",
    "    \n",
    "    for i in range(l, len(string)):\n",
    "        string[l], string[i] = string[i], string[l]\n",
    "        permute(string, l + 1)\n",
    "        string[l], string[i] = string[i], string[l]  \n",
    "\n",
    "user_input = list(input(\"Enter a string: \"))\n",
    "permute(user_input)\n"
   ]
  },
  {
   "cell_type": "code",
   "execution_count": 23,
   "metadata": {},
   "outputs": [
    {
     "name": "stdout",
     "output_type": "stream",
     "text": [
      "ready are We\n"
     ]
    }
   ],
   "source": [
    "def reverse(s):\n",
    "    words = s.split()\n",
    "    reversed_s = ' '.join(reversed(words))\n",
    "    return reversed_s\n",
    "sentence = input(\"Enter a sentence: \")\n",
    "print(reverse(sentence))\n"
   ]
  },
  {
   "cell_type": "code",
   "execution_count": 3,
   "metadata": {},
   "outputs": [
    {
     "name": "stdout",
     "output_type": "stream",
     "text": [
      "True\n",
      "False\n",
      "False\n"
     ]
    }
   ],
   "source": [
    "def has_33(nums):\n",
    "    for i in range(len(nums) - 1):\n",
    "        if nums[i] == 3 and nums[i + 1] == 3:\n",
    "            return True\n",
    "    return False\n",
    "\n",
    "\n",
    "print(has_33([1, 3, 3]))  \n",
    "print(has_33([1, 3, 1, 3]))  \n",
    "print(has_33([3, 1, 3]))  "
   ]
  },
  {
   "cell_type": "code",
   "execution_count": 4,
   "metadata": {},
   "outputs": [
    {
     "name": "stdout",
     "output_type": "stream",
     "text": [
      "True\n",
      "True\n",
      "False\n"
     ]
    }
   ],
   "source": [
    "def spy_game(nums):\n",
    "    code = [0, 0, 7]\n",
    "    for num in nums:\n",
    "        if num == code[0]:\n",
    "            code.pop(0)\n",
    "        if not code:\n",
    "            return True\n",
    "    return False\n",
    "\n",
    "print(spy_game([1, 2, 4, 0, 0, 7, 5]))  \n",
    "print(spy_game([1, 0, 2, 4, 0, 5, 7]))  \n",
    "print(spy_game([1, 7, 2, 0, 4, 5, 0]))  \n"
   ]
  },
  {
   "cell_type": "code",
   "execution_count": 5,
   "metadata": {},
   "outputs": [
    {
     "name": "stdout",
     "output_type": "stream",
     "text": [
      "113.03999999999999\n"
     ]
    }
   ],
   "source": [
    "def sphere_volume(radius):\n",
    "    pi = 3.14\n",
    "    return (4/3) * pi * radius**3\n",
    "\n",
    "print(sphere_volume(3))"
   ]
  },
  {
   "cell_type": "code",
   "execution_count": 6,
   "metadata": {},
   "outputs": [
    {
     "name": "stdout",
     "output_type": "stream",
     "text": [
      "[1, 2, 3, 4, 5]\n",
      "[7, 8, 9]\n"
     ]
    }
   ],
   "source": [
    "def unique_elements(lst):\n",
    "    unique_lst = []\n",
    "    for item in lst:\n",
    "        if item not in unique_lst:\n",
    "            unique_lst.append(item)\n",
    "    return unique_lst\n",
    "\n",
    "print(unique_elements([1, 2, 2, 3, 4, 4, 5]))  \n",
    "print(unique_elements([7, 8, 9, 7, 7, 8]))  \n"
   ]
  },
  {
   "cell_type": "code",
   "execution_count": 7,
   "metadata": {},
   "outputs": [
    {
     "name": "stdout",
     "output_type": "stream",
     "text": [
      "True\n",
      "False\n"
     ]
    }
   ],
   "source": [
    "def is_palindrome(s):\n",
    "    cleaned_string = \"\"\n",
    "    \n",
    "    for char in s:\n",
    "        if char.isalnum():  \n",
    "            cleaned_string += char.lower()  \n",
    "    return cleaned_string == cleaned_string[::-1]\n",
    "\n",
    "\n",
    "print(is_palindrome(\"madam\"))    \n",
    "print(is_palindrome(\"hello\"))  "
   ]
  },
  {
   "cell_type": "code",
   "execution_count": 8,
   "metadata": {},
   "outputs": [
    {
     "name": "stdout",
     "output_type": "stream",
     "text": [
      "*\n",
      "**\n",
      "***\n"
     ]
    }
   ],
   "source": [
    "def histogram(lst):\n",
    "    for num in lst:\n",
    "        print('*' * num)\n",
    "\n",
    "\n",
    "histogram([1, 2, 3])"
   ]
  },
  {
   "cell_type": "code",
   "execution_count": 10,
   "metadata": {},
   "outputs": [
    {
     "name": "stdout",
     "output_type": "stream",
     "text": [
      "Hello! What is your name?\n",
      "\n",
      "Well, KBTU, I am thinking of a number between 1 and 20.\n",
      "Take a guess.\n",
      "Please enter a valid number.\n",
      "Your guess is too low.\n",
      "Please enter a valid number.\n",
      "Good job, KBTU! You guessed my number in 2 guesses!\n"
     ]
    }
   ],
   "source": [
    "import random\n",
    "\n",
    "def guess_the_number():\n",
    "    print(\"Hello! What is your name?\")\n",
    "    name = input()  \n",
    "\n",
    "    number_to_guess = random.randint(1, 20)  \n",
    "    print(f\"\\nWell, {name}, I am thinking of a number between 1 and 20.\")\n",
    "    print(\"Take a guess.\")\n",
    "\n",
    "    attempts = 0  \n",
    "\n",
    "    while True:\n",
    "        try:\n",
    "            guess = int(input())  \n",
    "            attempts += 1  \n",
    "\n",
    "            if guess < number_to_guess:\n",
    "                print(\"Your guess is too low.\")\n",
    "            elif guess > number_to_guess:\n",
    "                print(\"Your guess is too high.\")\n",
    "            else:\n",
    "                print(f\"Good job, {name}! You guessed my number in {attempts} guesses!\")\n",
    "                break  \n",
    "        except ValueError:  \n",
    "            print(\"Please enter a valid number.\")\n",
    " \n",
    "guess_the_number()\n"
   ]
  }
 ],
 "metadata": {
  "kernelspec": {
   "display_name": "Python 3",
   "language": "python",
   "name": "python3"
  },
  "language_info": {
   "codemirror_mode": {
    "name": "ipython",
    "version": 3
   },
   "file_extension": ".py",
   "mimetype": "text/x-python",
   "name": "python",
   "nbconvert_exporter": "python",
   "pygments_lexer": "ipython3",
   "version": "3.13.1"
  }
 },
 "nbformat": 4,
 "nbformat_minor": 2
}
