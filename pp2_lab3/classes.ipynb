{
 "cells": [
  {
   "cell_type": "code",
   "execution_count": 1,
   "metadata": {},
   "outputs": [
    {
     "name": "stdout",
     "output_type": "stream",
     "text": [
      "HELLO KBTU\n"
     ]
    }
   ],
   "source": [
    "class Step1:\n",
    "    def __init__(self):\n",
    "        self.string = \"\"  \n",
    "\n",
    "    def getString(self):\n",
    "        self.string = input(\"Enter the text: \")  \n",
    "\n",
    "    def printString(self):\n",
    "        print(self.string.upper())  \n",
    "\n",
    "str = Step1()  \n",
    "str.getString()  \n",
    "str.printString()  \n"
   ]
  },
  {
   "cell_type": "code",
   "execution_count": 6,
   "metadata": {},
   "outputs": [
    {
     "name": "stdout",
     "output_type": "stream",
     "text": [
      "Area of the square: 25\n",
      "Area of the shape: 0\n"
     ]
    }
   ],
   "source": [
    "class Shape:\n",
    "    def __init__(self):\n",
    "        pass\n",
    "    \n",
    "    def area(self):\n",
    "        return 0\n",
    "\n",
    "class Square(Shape):\n",
    "    def __init__(self, length):\n",
    "        self.length = length\n",
    "    \n",
    "    def area(self):\n",
    "        return self.length * self.length\n",
    "\n",
    "square = Square(5)\n",
    "print(f\"Area of the square: {square.area()}\")\n",
    "\n",
    "shape = Shape()\n",
    "print(f\"Area of the shape: {shape.area()}\")\n"
   ]
  },
  {
   "cell_type": "code",
   "execution_count": 5,
   "metadata": {},
   "outputs": [
    {
     "name": "stdout",
     "output_type": "stream",
     "text": [
      "Area of the rectangle: 15\n",
      "Area of the shape: 0\n"
     ]
    }
   ],
   "source": [
    "class Shape:\n",
    "    def __init__(self):\n",
    "        pass\n",
    "    \n",
    "    def area(self):\n",
    "        return 0\n",
    "\n",
    "class Rectangle(Shape):\n",
    "    def __init__(self, length, width):\n",
    "        self.length = length\n",
    "        self.width = width\n",
    "    \n",
    "    def area(self):\n",
    "        return self.length * self.width\n",
    "\n",
    "rectangle = Rectangle(5, 3)\n",
    "\n",
    "print(f\"Area of the rectangle: {rectangle.area()}\")\n",
    "\n",
    "shape = Shape()\n",
    "\n",
    "print(f\"Area of the shape: {shape.area()}\")\n"
   ]
  },
  {
   "cell_type": "code",
   "execution_count": 7,
   "metadata": {},
   "outputs": [
    {
     "name": "stdout",
     "output_type": "stream",
     "text": [
      "A point with coordinates: (2, 3)\n",
      "A point with coordinates: (5, 7)\n",
      "Distance between points: 5.0\n",
      "A point with coordinates: (10, 10)\n"
     ]
    }
   ],
   "source": [
    "import math\n",
    "\n",
    "class Point:\n",
    "    def __init__(self, x, y):\n",
    "        self.x = x\n",
    "        self.y = y\n",
    "    \n",
    "    def show(self):\n",
    "        print(f\"A point with coordinates: ({self.x}, {self.y})\")\n",
    "    \n",
    "    def move(self, new_x, new_y):\n",
    "        self.x = new_x\n",
    "        self.y = new_y\n",
    "    \n",
    "    def dist(self, other_point):\n",
    "        distance = math.sqrt((other_point.x - self.x)**2 + (other_point.y - self.y)**2)\n",
    "        return distance\n",
    "\n",
    "point1 = Point(2, 3)\n",
    "point2 = Point(5, 7)\n",
    "\n",
    "point1.show()\n",
    "point2.show()\n",
    "\n",
    "print(f\"Distance between points: {point1.dist(point2)}\")\n",
    "\n",
    "point1.move(10, 10)\n",
    "point1.show()\n"
   ]
  },
  {
   "cell_type": "code",
   "execution_count": 8,
   "metadata": {},
   "outputs": [
    {
     "name": "stdout",
     "output_type": "stream",
     "text": [
      "50 added to the account. New balance: 150\n",
      "200 added to the account. New balance: 350\n",
      "100 withdrawn from the account. Remains: 250\n",
      "Insufficient funds in the account\n",
      "Withdrawal amount must be more than 0.\n",
      "Final balance Amelya: 250\n"
     ]
    }
   ],
   "source": [
    "class Account:\n",
    "    def __init__(self, owner, balance=0):\n",
    "        self.owner = owner\n",
    "        self.balance = balance\n",
    "\n",
    "    def deposit(self, amount):\n",
    "        if amount > 0:\n",
    "            self.balance += amount\n",
    "            print(f\"{amount} added to the account. New balance: {self.balance}\")\n",
    "        else:\n",
    "            print(\"The deposit amount must be more than 0.\")\n",
    "\n",
    "    def withdraw(self, amount):\n",
    "        if amount > self.balance:\n",
    "            print(\"Insufficient funds in the account\")\n",
    "        elif amount <= 0:\n",
    "            print(\"Withdrawal amount must be more than 0.\")\n",
    "        else:\n",
    "            self.balance -= amount\n",
    "            print(f\"{amount} withdrawn from the account. Remains: {self.balance}\")\n",
    "\n",
    "account = Account(\"Amelya\", 100)\n",
    "\n",
    "account.deposit(50)  \n",
    "account.deposit(200)\n",
    "\n",
    "account.withdraw(100)  \n",
    "account.withdraw(300)  \n",
    "account.withdraw(-10)  \n",
    "\n",
    "print(f\"Final balance {account.owner}: {account.balance}\")\n"
   ]
  },
  {
   "cell_type": "code",
   "execution_count": 9,
   "metadata": {},
   "outputs": [
    {
     "name": "stdout",
     "output_type": "stream",
     "text": [
      "Prime numbers: [2, 3, 5, 7, 11, 13, 17]\n"
     ]
    }
   ],
   "source": [
    "def is_prime(n):\n",
    "    if n < 2:\n",
    "        return False\n",
    "    for i in range(2, int(n ** 0.5) + 1):\n",
    "        if n % i == 0:\n",
    "            return False\n",
    "    return True\n",
    "\n",
    "numbers = [2, 3, 4, 5, 6, 7, 8, 9, 10, 11, 12, 13, 14, 15, 16, 17]\n",
    "\n",
    "prime_numbers = list(filter(lambda x: is_prime(x), numbers))\n",
    "\n",
    "print(\"Prime numbers:\", prime_numbers)\n"
   ]
  }
 ],
 "metadata": {
  "kernelspec": {
   "display_name": "Python 3",
   "language": "python",
   "name": "python3"
  },
  "language_info": {
   "codemirror_mode": {
    "name": "ipython",
    "version": 3
   },
   "file_extension": ".py",
   "mimetype": "text/x-python",
   "name": "python",
   "nbconvert_exporter": "python",
   "pygments_lexer": "ipython3",
   "version": "3.13.1"
  }
 },
 "nbformat": 4,
 "nbformat_minor": 2
}
