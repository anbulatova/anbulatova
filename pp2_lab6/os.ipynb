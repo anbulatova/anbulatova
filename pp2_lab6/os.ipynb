{
 "cells": [
  {
   "cell_type": "code",
   "execution_count": 2,
   "metadata": {},
   "outputs": [
    {
     "name": "stdout",
     "output_type": "stream",
     "text": [
      "Path exists\n",
      "Files name: pp2\n",
      "Folders name: C:\\Users\\an_bu\\OneDrive\\Рабочий стол\n"
     ]
    }
   ],
   "source": [
    "import os\n",
    "\n",
    "path = input(\"Enter the path: \")\n",
    "\n",
    "if os.path.exists(path):\n",
    "    print(\"Path exists\")\n",
    "    print(\"Files name:\", os.path.basename(path))\n",
    "    print(\"Folders name:\", os.path.dirname(path))\n",
    "else:\n",
    "    print(\"Path not exists\")"
   ]
  },
  {
   "cell_type": "code",
   "execution_count": 6,
   "metadata": {},
   "outputs": [
    {
     "name": "stdout",
     "output_type": "stream",
     "text": [
      "Number of lines: 6\n"
     ]
    }
   ],
   "source": [
    "filename = input(\"Enter the file name: \")\n",
    "with open(filename, \"r\", encoding = \"utf-8\") as file:\n",
    "    lines = file.readlines()\n",
    "\n",
    "num = len(lines)\n",
    "print(F\"Number of lines: {num}\")"
   ]
  },
  {
   "cell_type": "code",
   "execution_count": 7,
   "metadata": {},
   "outputs": [
    {
     "name": "stdout",
     "output_type": "stream",
     "text": [
      "List in: output.txt\n"
     ]
    }
   ],
   "source": [
    "my_list = [\"apple\", \"banana\", \"cherry\"]\n",
    "filename = \"output.txt\"\n",
    "\n",
    "with open(filename, \"w\", encoding = \"utf-8\") as file:\n",
    "    for i in my_list:\n",
    "        file.write(i + \"\\n\")\n",
    "\n",
    "print(f\"List in: {filename}\")"
   ]
  },
  {
   "cell_type": "code",
   "execution_count": 8,
   "metadata": {},
   "outputs": [
    {
     "name": "stdout",
     "output_type": "stream",
     "text": [
      "File is created\n"
     ]
    }
   ],
   "source": [
    "import string\n",
    "\n",
    "for i in string.ascii_uppercase:\n",
    "    filename = f\"{i}.txt\"\n",
    "with open(filename, \"w\") as file:\n",
    "    file.write(f\"This is {filename}\\n\")\n",
    "print(\"File is created\")\n"
   ]
  },
  {
   "cell_type": "code",
   "execution_count": 10,
   "metadata": {},
   "outputs": [
    {
     "name": "stdout",
     "output_type": "stream",
     "text": [
      "File is copied\n"
     ]
    }
   ],
   "source": [
    "rfile = input(\"Enter the read file: \")\n",
    "wfile = input(\"Enter the write file: \")\n",
    "\n",
    "with open(rfile, \"r\", encoding = \"utf-8\") as file1, open(wfile, \"w\", encoding = \"utf-8\") as file2:\n",
    "    file2.write(file1.read())\n",
    "\n",
    "print(\"File is copied\")"
   ]
  },
  {
   "cell_type": "code",
   "execution_count": 11,
   "metadata": {},
   "outputs": [
    {
     "name": "stdout",
     "output_type": "stream",
     "text": [
      "File is deleted\n"
     ]
    }
   ],
   "source": [
    "import os\n",
    "\n",
    "path = input(\"Enter the path: \")\n",
    "\n",
    "if os.path.exists(path):\n",
    "    if os.access(path, os.W_OK):\n",
    "        os.remove(path)\n",
    "        print(\"File is deleted\")\n",
    "    else:\n",
    "        print(\"Error\")\n",
    "else:\n",
    "    print(\"File is not exists\")"
   ]
  }
 ],
 "metadata": {
  "kernelspec": {
   "display_name": "Python 3",
   "language": "python",
   "name": "python3"
  },
  "language_info": {
   "codemirror_mode": {
    "name": "ipython",
    "version": 3
   },
   "file_extension": ".py",
   "mimetype": "text/x-python",
   "name": "python",
   "nbconvert_exporter": "python",
   "pygments_lexer": "ipython3",
   "version": "3.13.1"
  }
 },
 "nbformat": 4,
 "nbformat_minor": 2
}
