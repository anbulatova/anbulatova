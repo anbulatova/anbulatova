{
 "cells": [
  {
   "cell_type": "code",
   "execution_count": 1,
   "metadata": {},
   "outputs": [
    {
     "name": "stdout",
     "output_type": "stream",
     "text": [
      "4320\n"
     ]
    }
   ],
   "source": [
    "from functools import reduce\n",
    "my_list = [1, 8, 6, 9, 2, 5]\n",
    "red = reduce(lambda a, b : a*b, my_list)\n",
    "print(red)"
   ]
  },
  {
   "cell_type": "code",
   "execution_count": 2,
   "metadata": {},
   "outputs": [
    {
     "name": "stdout",
     "output_type": "stream",
     "text": [
      "Upper: 5\n",
      "Lower: 4\n",
      "Sum: 9\n"
     ]
    }
   ],
   "source": [
    "def num_of_letters(s):\n",
    "    uppercase = 0\n",
    "    lowercase = 0\n",
    "    for i in s:\n",
    "        if i.isupper():\n",
    "            uppercase += 1\n",
    "        elif i.islower():\n",
    "            lowercase += 1\n",
    "    print(f\"Upper: {uppercase}\")\n",
    "    print(f\"Lower: {lowercase}\")\n",
    "    print(f\"Sum: {uppercase + lowercase}\")\n",
    "\n",
    "s = \"Hello, KBTU\"\n",
    "num_of_letters(s)"
   ]
  },
  {
   "cell_type": "code",
   "execution_count": 3,
   "metadata": {},
   "outputs": [
    {
     "name": "stdout",
     "output_type": "stream",
     "text": [
      "Palindrome\n",
      "None-palindrome\n"
     ]
    }
   ],
   "source": [
    "def is_palindrome(s):\n",
    "    s = s.lower().replace(\" \", \"\").replace(\".\", \"\").replace(\",\",\"\").replace(\"'\",\"\")\n",
    "    if s == s[::-1]:\n",
    "        print(\"Palindrome\")\n",
    "    else:\n",
    "        print(\"None-palindrome\")\n",
    "\n",
    "str = \"Madam, in Eden, I'm Adam\"\n",
    "is_palindrome(str)\n",
    "stt = \"KBTU\"\n",
    "is_palindrome(stt)"
   ]
  },
  {
   "cell_type": "code",
   "execution_count": 4,
   "metadata": {},
   "outputs": [
    {
     "name": "stdout",
     "output_type": "stream",
     "text": [
      "Square root of 25100 after 2123 miliseconds is 158.42979517754858\n"
     ]
    }
   ],
   "source": [
    "import time\n",
    "import math\n",
    "n = 25100\n",
    "t = 2123\n",
    "\n",
    "time.sleep(t / 1000)\n",
    "result = math.sqrt(n)\n",
    "\n",
    "print(f\"Square root of {n} after {t} miliseconds is {result}\")"
   ]
  },
  {
   "cell_type": "code",
   "execution_count": 5,
   "metadata": {},
   "outputs": [
    {
     "name": "stdout",
     "output_type": "stream",
     "text": [
      "True\n",
      "False\n"
     ]
    }
   ],
   "source": [
    "def all_true(t):\n",
    "    return all(t)\n",
    "\n",
    "t1 = (True, True, True)\n",
    "t2 = (True, False, True)\n",
    "\n",
    "print(all_true(t1))\n",
    "print(all_true(t2))"
   ]
  }
 ],
 "metadata": {
  "kernelspec": {
   "display_name": "Python 3",
   "language": "python",
   "name": "python3"
  },
  "language_info": {
   "codemirror_mode": {
    "name": "ipython",
    "version": 3
   },
   "file_extension": ".py",
   "mimetype": "text/x-python",
   "name": "python",
   "nbconvert_exporter": "python",
   "pygments_lexer": "ipython3",
   "version": "3.13.1"
  }
 },
 "nbformat": 4,
 "nbformat_minor": 2
}
