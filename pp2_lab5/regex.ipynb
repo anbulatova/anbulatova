{
 "cells": [
  {
   "cell_type": "code",
   "execution_count": 3,
   "metadata": {},
   "outputs": [
    {
     "name": "stdout",
     "output_type": "stream",
     "text": [
      "No match: aab\n",
      "Match: abb\n",
      "Match: ab\n",
      "No match: aabb\n"
     ]
    }
   ],
   "source": [
    "import re\n",
    "\n",
    "pattern = r\"ab*\"\n",
    "strings = [\"aab\", \"abb\", \"ab\", \"aabb\"]\n",
    "\n",
    "for s in strings:\n",
    "    if re.fullmatch(pattern, s):\n",
    "        print(f\"Match: {s}\")\n",
    "    else:\n",
    "        print(f\"No match: {s}\")"
   ]
  },
  {
   "cell_type": "code",
   "execution_count": 2,
   "metadata": {},
   "outputs": [
    {
     "name": "stdout",
     "output_type": "stream",
     "text": [
      "No match: ab\n",
      "Match: abb\n",
      "No match: aab\n",
      "Match: abbb\n",
      "No match: abbbbb\n"
     ]
    }
   ],
   "source": [
    "import re\n",
    "\n",
    "pattern = r\"ab{2,3}\"\n",
    "strings = [\"ab\", \"abb\", \"aab\", \"abbb\", \"abbbbb\"]\n",
    "\n",
    "for s in strings:\n",
    "    if re.fullmatch(pattern, s):\n",
    "        print(f\"Match: {s}\")\n",
    "    else:\n",
    "        print(f\"No match: {s}\")"
   ]
  },
  {
   "cell_type": "code",
   "execution_count": 4,
   "metadata": {},
   "outputs": [
    {
     "name": "stdout",
     "output_type": "stream",
     "text": [
      "No match: Hello_world\n",
      "No match: hello_KBTU\n",
      "Match: hello_world\n",
      "Match: hello_student\n"
     ]
    }
   ],
   "source": [
    "import re\n",
    "\n",
    "pattern = r\"[a-z]+_[a-z]+\"\n",
    "strings = [\"Hello_world\", \"hello_KBTU\", \"hello_world\", \"hello_student\"]\n",
    "\n",
    "for s in strings:\n",
    "    if re.fullmatch(pattern, s):\n",
    "        print(f\"Match: {s}\")\n",
    "    else:\n",
    "        print(f\"No match: {s}\")"
   ]
  },
  {
   "cell_type": "code",
   "execution_count": 6,
   "metadata": {},
   "outputs": [
    {
     "name": "stdout",
     "output_type": "stream",
     "text": [
      "Match: Hello_world\n",
      "No match:  Hello_KBTU\n",
      "Match: Hello_student\n"
     ]
    }
   ],
   "source": [
    "import re\n",
    "\n",
    "pattern = r\"[A-z]+_[a-z]+\"\n",
    "strings = [\"Hello_world\", \"Hello_KBTU\", \"Hello_student\"]\n",
    "\n",
    "for s in strings:\n",
    "    if re.fullmatch(pattern, s):\n",
    "        print(f\"Match: {s}\")\n",
    "    else:\n",
    "        print(f\"No match:  {s}\")"
   ]
  },
  {
   "cell_type": "code",
   "execution_count": 10,
   "metadata": {},
   "outputs": [
    {
     "name": "stdout",
     "output_type": "stream",
     "text": [
      "No match: abc\n",
      "Match: ab\n",
      "Match: asdb\n",
      "Match: arfb\n"
     ]
    }
   ],
   "source": [
    "import re\n",
    "\n",
    "pattern = r\"a.*b$\"\n",
    "strings = [\"abc\", \"ab\", \"asdb\", \"arfb\"]\n",
    "\n",
    "for s in strings:\n",
    "    if re.fullmatch(pattern, s):\n",
    "        print(f\"Match: {s}\")\n",
    "    else:\n",
    "        print(f\"No match: {s}\")"
   ]
  },
  {
   "cell_type": "code",
   "execution_count": null,
   "metadata": {},
   "outputs": [
    {
     "name": "stdout",
     "output_type": "stream",
     "text": [
      "Hello:World::How:are:you?\n"
     ]
    }
   ],
   "source": [
    "import re\n",
    "\n",
    "text = \"Hello World, How are you?\"\n",
    "new_text = re.sub(r\"[ ,.]\", \":\", text)\n",
    "\n",
    "print(new_text)"
   ]
  },
  {
   "cell_type": "code",
   "execution_count": null,
   "metadata": {},
   "outputs": [
    {
     "name": "stdout",
     "output_type": "stream",
     "text": [
      "helloHelloWorldExample\n"
     ]
    }
   ],
   "source": [
    "import re\n",
    "\n",
    "def snake_to_camel(snake_str):\n",
    "    a = snake_str.split('_')\n",
    "    return a[0] + ''.join(word.capitalize() for word in a[1:])\n",
    "\n",
    "snake_text = \"hello_world_example\"\n",
    "camel_text = snake_to_camel(snake_text)\n",
    "print(camel_text)"
   ]
  },
  {
   "cell_type": "code",
   "execution_count": 17,
   "metadata": {},
   "outputs": [
    {
     "name": "stdout",
     "output_type": "stream",
     "text": [
      "['', 'Hello', 'World', 'Example']\n"
     ]
    }
   ],
   "source": [
    "import re\n",
    "\n",
    "def split_at_uppercase(s):\n",
    "    return re.split(r'(?=[A-Z])', s)\n",
    "\n",
    "text = \"HelloWorldExample\"\n",
    "print(split_at_uppercase(text))"
   ]
  },
  {
   "cell_type": "code",
   "execution_count": 21,
   "metadata": {},
   "outputs": [
    {
     "name": "stdout",
     "output_type": "stream",
     "text": [
      "Hello World Example\n"
     ]
    }
   ],
   "source": [
    "import re\n",
    "\n",
    "def add_space(s):\n",
    "    return re.sub(r'(?<!^)([A-Z])', r' \\1', s)\n",
    "\n",
    "text = \"HelloWorldExample\"\n",
    "print(add_space(text))"
   ]
  },
  {
   "cell_type": "code",
   "execution_count": 22,
   "metadata": {},
   "outputs": [
    {
     "name": "stdout",
     "output_type": "stream",
     "text": [
      "hello_world_example\n"
     ]
    }
   ],
   "source": [
    "import re\n",
    "\n",
    "def camel_to_snake(camel_str):\n",
    "    return re.sub(r'([a-z])([A-Z])', r'\\1_\\2', camel_str).lower()\n",
    "\n",
    "camel_text = \"helloWorldExample\"\n",
    "snake_text = camel_to_snake(camel_text)\n",
    "print(snake_text)  \n"
   ]
  }
 ],
 "metadata": {
  "kernelspec": {
   "display_name": "Python 3",
   "language": "python",
   "name": "python3"
  },
  "language_info": {
   "codemirror_mode": {
    "name": "ipython",
    "version": 3
   },
   "file_extension": ".py",
   "mimetype": "text/x-python",
   "name": "python",
   "nbconvert_exporter": "python",
   "pygments_lexer": "ipython3",
   "version": "3.13.1"
  }
 },
 "nbformat": 4,
 "nbformat_minor": 2
}
